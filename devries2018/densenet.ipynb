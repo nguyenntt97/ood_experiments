{
 "cells": [
  {
   "cell_type": "code",
   "execution_count": 10,
   "metadata": {},
   "outputs": [],
   "source": [
    "import torch\n",
    "from torchvision.transforms import ToTensor\n",
    "from torchvision import datasets\n",
    "from torch.utils.data import DataLoader\n"
   ]
  },
  {
   "cell_type": "code",
   "execution_count": 11,
   "metadata": {},
   "outputs": [],
   "source": [
    "batch_size = 8\n",
    "\n",
    "training_data = datasets.CIFAR10(\n",
    "    root='../datasets/cifar_10',\n",
    "    train=True,\n",
    "    transform=ToTensor()\n",
    ")\n",
    "\n",
    "train_dataloader = DataLoader(training_data, batch_size=batch_size)"
   ]
  },
  {
   "cell_type": "code",
   "execution_count": 12,
   "metadata": {},
   "outputs": [
    {
     "name": "stdout",
     "output_type": "stream",
     "text": [
      "Using cuda device\n"
     ]
    }
   ],
   "source": [
    "from matplotlib import pyplot as plt\n",
    "# Get cpu or gpu device for training.\n",
    "import torch.nn.functional as F\n",
    "from torch import nn\n",
    "import numpy as np\n",
    "\n",
    "from densenet import DenseNet\n",
    "\n",
    "device = \"cuda\" if torch.cuda.is_available() else \"cpu\"\n",
    "print(f\"Using {device} device\")\n",
    "\n",
    "\n",
    "def matplotlib_imshow(img, one_channel=False):\n",
    "    if one_channel:\n",
    "        img = img.mean(dim=0)\n",
    "    img = img / 2 + 0.5     # unnormalize\n",
    "    npimg = img.numpy()\n",
    "    if one_channel:\n",
    "        plt.imshow(npimg, cmap=\"Greys\")\n",
    "    else:\n",
    "        plt.imshow(np.transpose(npimg, (1, 2, 0)))\n",
    "\n",
    "\n",
    "model = DenseNet(growthRate=12,\n",
    "                 depth=100,\n",
    "                 reduction=0.5,\n",
    "                 bottleneck=True,\n",
    "                 nClasses=10).to(device)\n",
    "\n",
    "loss_fn = nn.CrossEntropyLoss()\n",
    "# optimizer = torch.optim.SGD(model.parameters(), lr=1e-3)\n",
    "optimizer = torch.optim.SGD(model.parameters(),\n",
    "                            lr=0.001,\n",
    "                            momentum=0.9,\n",
    "                            nesterov=True,\n",
    "                            weight_decay=5e-4)\n"
   ]
  },
  {
   "cell_type": "code",
   "execution_count": 13,
   "metadata": {},
   "outputs": [],
   "source": [
    "from torch.utils.tensorboard import SummaryWriter\n",
    "\n",
    "experiment_name = \"cifar_densenet\"\n",
    "# default `log_dir` is \"runs\" - we'll be more specific here\n",
    "writer = SummaryWriter(f'runs/{experiment_name}')"
   ]
  },
  {
   "cell_type": "code",
   "execution_count": 14,
   "metadata": {},
   "outputs": [
    {
     "name": "stdout",
     "output_type": "stream",
     "text": [
      "loss: 2.376384  [    0/50000]\n",
      "loss: 2.417169  [  800/50000]\n",
      "loss: 2.136257  [ 1600/50000]\n",
      "loss: 2.156937  [ 2400/50000]\n",
      "loss: 2.287895  [ 3200/50000]\n",
      "loss: 2.095054  [ 4000/50000]\n",
      "loss: 1.782100  [ 4800/50000]\n",
      "loss: 1.629167  [ 5600/50000]\n",
      "loss: 1.897258  [ 6400/50000]\n",
      "loss: 2.181595  [ 7200/50000]\n",
      "loss: 2.001462  [ 8000/50000]\n",
      "loss: 2.183216  [ 8800/50000]\n",
      "loss: 1.811096  [ 9600/50000]\n",
      "loss: 1.528380  [10400/50000]\n",
      "loss: 1.840214  [11200/50000]\n",
      "loss: 1.811746  [12000/50000]\n",
      "loss: 1.991841  [12800/50000]\n",
      "loss: 2.019451  [13600/50000]\n",
      "loss: 1.767434  [14400/50000]\n",
      "loss: 2.031518  [15200/50000]\n",
      "loss: 1.794912  [16000/50000]\n",
      "loss: 1.809017  [16800/50000]\n",
      "loss: 1.542620  [17600/50000]\n",
      "loss: 1.568574  [18400/50000]\n",
      "loss: 1.674643  [19200/50000]\n",
      "loss: 2.338620  [20000/50000]\n",
      "loss: 1.824275  [20800/50000]\n",
      "loss: 1.665568  [21600/50000]\n",
      "loss: 1.663399  [22400/50000]\n",
      "loss: 1.746360  [23200/50000]\n",
      "loss: 1.634168  [24000/50000]\n",
      "loss: 1.827178  [24800/50000]\n",
      "loss: 1.903072  [25600/50000]\n",
      "loss: 1.575907  [26400/50000]\n",
      "loss: 1.649054  [27200/50000]\n",
      "loss: 1.682761  [28000/50000]\n",
      "loss: 1.480289  [28800/50000]\n",
      "loss: 1.479337  [29600/50000]\n",
      "loss: 1.687748  [30400/50000]\n",
      "loss: 1.634296  [31200/50000]\n",
      "loss: 1.512321  [32000/50000]\n",
      "loss: 2.279676  [32800/50000]\n",
      "loss: 2.523001  [33600/50000]\n",
      "loss: 1.081363  [34400/50000]\n",
      "loss: 1.652071  [35200/50000]\n",
      "loss: 1.880698  [36000/50000]\n",
      "loss: 1.742900  [36800/50000]\n",
      "loss: 1.327741  [37600/50000]\n",
      "loss: 1.438087  [38400/50000]\n",
      "loss: 1.198817  [39200/50000]\n",
      "loss: 1.464735  [40000/50000]\n",
      "loss: 1.552367  [40800/50000]\n",
      "loss: 1.467566  [41600/50000]\n",
      "loss: 1.262413  [42400/50000]\n",
      "loss: 1.348590  [43200/50000]\n",
      "loss: 1.426772  [44000/50000]\n",
      "loss: 1.686820  [44800/50000]\n",
      "loss: 1.528471  [45600/50000]\n",
      "loss: 1.528708  [46400/50000]\n",
      "loss: 1.820326  [47200/50000]\n",
      "loss: 1.818740  [48000/50000]\n",
      "loss: 1.402637  [48800/50000]\n",
      "loss: 1.236428  [49600/50000]\n"
     ]
    }
   ],
   "source": [
    "def train(dataloader, model, loss_fn, optimizer):\n",
    "    size = len(dataloader.dataset)\n",
    "    model.train()\n",
    "    for batch, (X, y) in enumerate(dataloader):\n",
    "        X, y = X.to(device), y.to(device)\n",
    "\n",
    "        # Compute prediction error\n",
    "        pred = model(X)\n",
    "        loss = loss_fn(pred, y)\n",
    "\n",
    "        # Backpropagation\n",
    "        optimizer.zero_grad()\n",
    "        loss.backward()\n",
    "        optimizer.step()\n",
    "\n",
    "        if batch % 100 == 0:\n",
    "            loss, current = loss.item(), batch * len(X)\n",
    "            print(f\"loss: {loss:>7f}  [{current:>5d}/{size:>5d}]\")\n",
    "\n",
    "train(train_dataloader, model, loss_fn=loss_fn, optimizer=optimizer)"
   ]
  }
 ],
 "metadata": {
  "interpreter": {
   "hash": "acd9b4a7d3e901a7d4eea338de05436f268b416cd7cc69a1c10b1ece906c0d1a"
  },
  "kernelspec": {
   "display_name": "Python 3.9.7 64-bit ('torch_env': conda)",
   "language": "python",
   "name": "python3"
  },
  "language_info": {
   "codemirror_mode": {
    "name": "ipython",
    "version": 3
   },
   "file_extension": ".py",
   "mimetype": "text/x-python",
   "name": "python",
   "nbconvert_exporter": "python",
   "pygments_lexer": "ipython3",
   "version": "3.9.7"
  },
  "orig_nbformat": 4
 },
 "nbformat": 4,
 "nbformat_minor": 2
}
