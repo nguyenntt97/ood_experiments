{
 "cells": [
  {
   "cell_type": "code",
   "execution_count": null,
   "metadata": {},
   "outputs": [],
   "source": [
    "PATH_TO_ANNA = '/mnt/d/tmp/anomaly_navigation_dataset'"
   ]
  },
  {
   "cell_type": "code",
   "execution_count": null,
   "metadata": {},
   "outputs": [],
   "source": [
    "from torch.utils.data import Dataset\n",
    "\n",
    "\n",
    "class AnnaDataset(Dataset):\n",
    "    def __init__(self,\n",
    "                 root: str) -> None:\n",
    "        self.train_set = None\n",
    "\n",
    "        positive_data_train = MySelfSupervised([os.path.join(root, folder) for folder in train], rgb=rgb, ir=ir, depth=depth, depth_3d=depth_3d, normals=normals, normal_angle=normal_angle, label=1)"
   ]
  }
 ],
 "metadata": {
  "interpreter": {
   "hash": "acd9b4a7d3e901a7d4eea338de05436f268b416cd7cc69a1c10b1ece906c0d1a"
  },
  "kernelspec": {
   "display_name": "Python 3.9.7 64-bit ('torch_env': conda)",
   "language": "python",
   "name": "python3"
  },
  "language_info": {
   "name": "python",
   "version": "3.9.7"
  },
  "orig_nbformat": 4
 },
 "nbformat": 4,
 "nbformat_minor": 2
}
